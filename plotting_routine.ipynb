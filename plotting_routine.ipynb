{
 "cells": [
  {
   "cell_type": "code",
   "execution_count": null,
   "id": "67b8e5cf",
   "metadata": {},
   "outputs": [],
   "source": [
    "import pandas as pd\n",
    "import matplotlib.pyplot as plt\n",
    "from pathlib import Path\n",
    "import rarfile"
   ]
  },
  {
   "cell_type": "code",
   "execution_count": null,
   "id": "4c086115",
   "metadata": {},
   "outputs": [],
   "source": [
    "import pandas as pd"
   ]
  },
  {
   "cell_type": "code",
   "execution_count": null,
   "id": "9c613b57",
   "metadata": {},
   "outputs": [],
   "source": [
    "#Data Paths\n",
    "data_dir = Path(\"Data\")\n",
    "rar_path = data_dir / \"glacier.rar\"\n",
    "csv_path = data_dir / \"GPS_stations_coords.csv\"\n",
    "\n",
    "#Unzip Data\n",
    "if not csv_path.exists():\n",
    "    print(f\"Extracting {csv_path.name} from {rar_path.name}...\")\n",
    "    with rarfile.RarFile(rar_path) as rf:\n",
    "        rf.extractall(data_dir)\n",
    "    print(\"Extraction complete.\")\n",
    "\n",
    "\n",
    "#Load Data\n",
    "df = pd.read_csv(csv_path)\n"
   ]
  },
  {
   "cell_type": "code",
   "execution_count": null,
   "id": "ab859660",
   "metadata": {},
   "outputs": [],
   "source": [
    "#Identify stations and their velocity data\n",
    "stations = []\n",
    "for col in df.columns:\n",
    "    if \"_DOY\" in col:\n",
    "        station = col.split(\"_DOY\")[0]\n",
    "        vel_col = f\"{station}_VEL\"\n",
    "        if vel_col in df.columns:\n",
    "            stations.append(station)\n",
    "\n",
    "print(stations)\n",
    "\n"
   ]
  },
  {
   "cell_type": "code",
   "execution_count": null,
   "id": "d1ab5831",
   "metadata": {},
   "outputs": [],
   "source": [
    "#Plot Time Series of Station Velocities\n",
    "plt.figure(figsize=(10,6))\n",
    "\n",
    "for station in stations:\n",
    "    doy_col = f\"{station}_DOY\"\n",
    "    vel_col = f\"{station}_VEL\"\n",
    "\n",
    "    x=df[doy_col]\n",
    "    y=df[vel_col]\n",
    "\n",
    "    plt.plot(x, y, marker='.', linestyle='-', markersize=3, label=station)\n",
    "\n",
    "plt.title(\"2011 Velocity Time Series\", fontsize=14)\n",
    "plt.xlabel(\"Day of Year (DOY)\", fontsize=12)\n",
    "plt.ylabel(\"Velocity (m/year)\", fontsize=12)\n",
    "plt.xlim(df.filter(like=\"_DOY\").min().min(), df.filter(like=\"_DOY\").max().max())\n",
    "plt.grid(True, linestyle='--', alpha=0.5)\n",
    "plt.legend(title=\"Stations\", fontsize=9)\n",
    "plt.tight_layout()\n",
    "\n",
    "plt.show()\n",
    "\n",
    "print(df.head())\n",
    "print(df.columns)"
   ]
  }
 ],
 "metadata": {
  "kernelspec": {
   "display_name": "venv",
   "language": "python",
   "name": "python3"
  },
  "language_info": {
   "codemirror_mode": {
    "name": "ipython",
    "version": 3
   },
   "file_extension": ".py",
   "mimetype": "text/x-python",
   "name": "python",
   "nbconvert_exporter": "python",
   "pygments_lexer": "ipython3",
   "version": "3.10.12"
  }
 },
 "nbformat": 4,
 "nbformat_minor": 5
}
